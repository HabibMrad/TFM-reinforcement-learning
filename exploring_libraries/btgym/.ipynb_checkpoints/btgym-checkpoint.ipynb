{
 "cells": [
  {
   "cell_type": "markdown",
   "metadata": {},
   "source": [
    "# Introduction"
   ]
  },
  {
   "cell_type": "markdown",
   "metadata": {},
   "source": [
    "## Description"
   ]
  },
  {
   "cell_type": "markdown",
   "metadata": {},
   "source": [
    "Btgym is an OpenAI Gym-compatible environment for Backtrader backtesting/trading library, designed to provide gym-integrated framework for running reinforcement learning experiments in real world algorithmic trading environments. It is based on two libraries:\n",
    "* Backtrader is open-source algorithmic trading library.\n",
    "* OpenAI Gym is…, well, everyone knows Gym:"
   ]
  },
  {
   "cell_type": "markdown",
   "metadata": {},
   "source": [
    "## Links"
   ]
  },
  {
   "cell_type": "markdown",
   "metadata": {
    "ExecuteTime": {
     "end_time": "2020-06-05T14:55:41.680263Z",
     "start_time": "2020-06-05T14:55:41.676252Z"
    }
   },
   "source": [
    "* https://github.com/Kismuz/btgym\n",
    "* http://github.com/mementum/backtrader\n",
    "* http://github.com/openai/gym"
   ]
  },
  {
   "cell_type": "markdown",
   "metadata": {},
   "source": [
    "# Quickstart"
   ]
  },
  {
   "cell_type": "markdown",
   "metadata": {},
   "source": [
    "## Imports"
   ]
  },
  {
   "cell_type": "markdown",
   "metadata": {},
   "source": [
    "## Example"
   ]
  },
  {
   "cell_type": "markdown",
   "metadata": {},
   "source": [
    "Making gym environment with all parmeters set to defaults is as simple as:"
   ]
  },
  {
   "cell_type": "code",
   "execution_count": 1,
   "metadata": {
    "ExecuteTime": {
     "end_time": "2020-06-05T23:21:11.377610Z",
     "start_time": "2020-06-05T23:21:08.698289Z"
    }
   },
   "outputs": [
    {
     "name": "stdout",
     "output_type": "stream",
     "text": [
      "BTgymDataset class is DEPRECATED, use btgym.datafeed.derivative.BTgymDataset2 instead.\n"
     ]
    }
   ],
   "source": [
    "from btgym import BTgymEnv\n",
    "\n",
    "MyEnvironment = BTgymEnv(filename='btgym/examples/data/DAT_ASCII_EURUSD_M1_2016.csv')\n",
    "MyEnvironment.close()"
   ]
  },
  {
   "cell_type": "markdown",
   "metadata": {},
   "source": [
    "Adding more controls may look like:"
   ]
  },
  {
   "cell_type": "code",
   "execution_count": 2,
   "metadata": {
    "ExecuteTime": {
     "end_time": "2020-06-05T23:21:15.249616Z",
     "start_time": "2020-06-05T23:21:13.011488Z"
    }
   },
   "outputs": [
    {
     "name": "stdout",
     "output_type": "stream",
     "text": [
      "BTgymDataset class is DEPRECATED, use btgym.datafeed.derivative.BTgymDataset2 instead.\n",
      "[2020-06-05 23:21:13.019786] INFO: BTgymAPIshell_0: Base Dataset class used.\n",
      "[2020-06-05 23:21:13.020492] INFO: BTgymAPIshell_0: Connecting data_server...\n",
      "[2020-06-05 23:21:13.086284] INFO: BTgymDataServer_0: PID: 5595\n",
      "[2020-06-05 23:21:13.457120] INFO: SimpleDataSet_0: Loaded 372678 records from <btgym/examples/data/DAT_ASCII_EURUSD_M1_2016.csv>.\n",
      "[2020-06-05 23:21:13.551928] INFO: SimpleDataSet_0: Data summary:\n",
      "                open           high            low          close    volume\n",
      "count  372678.000000  372678.000000  372678.000000  372678.000000  372678.0\n",
      "mean        1.107109       1.107198       1.107019       1.107108       0.0\n",
      "std         0.024843       0.024840       0.024847       0.024844       0.0\n",
      "min         1.035250       1.035470       1.035220       1.035220       0.0\n",
      "25%         1.092140       1.092230       1.092040       1.092140       0.0\n",
      "50%         1.113530       1.113610       1.113450       1.113530       0.0\n",
      "75%         1.124710       1.124780       1.124630       1.124710       0.0\n",
      "max         1.161440       1.161600       1.160770       1.161450       0.0\n",
      "[2020-06-05 23:21:14.095520] INFO: BTgymAPIshell_0: ...done.\n",
      "[2020-06-05 23:21:14.097621] INFO: BTgymAPIshell_0: Base Cerebro class used. Base Strategy class used.\n",
      "[2020-06-05 23:21:14.105578] INFO: BTgymAPIshell_0: Inferring `state[raw]` high/low values form dataset: 1.035220 / 1.161600.\n",
      "[2020-06-05 23:21:14.227487] INFO: BTgymServer_0: PID: 5610\n",
      "[2020-06-05 23:21:15.227737] INFO: BTgymAPIshell_0: Server started, pinging tcp://127.0.0.1:5555 ...\n",
      "[2020-06-05 23:21:15.233633] INFO: BTgymAPIshell_0: Server seems ready with response: <{'ctrl': 'send control keys: <_reset>, <_getstat>, <_render>, <_stop>.'}>\n",
      "[2020-06-05 23:21:15.235687] INFO: BTgymAPIshell_0: Environment is ready.\n",
      "[2020-06-05 23:21:15.239670] INFO: BTgymServer_0: Exiting.\n",
      "[2020-06-05 23:21:15.241211] INFO: BTgymAPIshell_0: Exiting. Exit code: None\n",
      "[2020-06-05 23:21:15.242851] INFO: BTgymDataServer_0: {'ctrl': 'Exiting.'}\n",
      "[2020-06-05 23:21:15.245001] INFO: BTgymAPIshell_0: {'ctrl': 'Exiting.'} Exit code: None\n",
      "[2020-06-05 23:21:15.246520] INFO: BTgymAPIshell_0: Environment closed.\n"
     ]
    }
   ],
   "source": [
    "from gym import spaces\n",
    "from btgym import BTgymEnv\n",
    "\n",
    "MyEnvironment = BTgymEnv(filename='btgym/examples/data/DAT_ASCII_EURUSD_M1_2016.csv',\n",
    "                         episode_duration={'days': 2, 'hours': 23, 'minutes': 55},\n",
    "                         drawdown_call=50,\n",
    "                         state_shape={'raw': spaces.Box(low=0,high=1,shape=(20,4))},\n",
    "                         port=5555,\n",
    "                         verbose=1,\n",
    "                         )\n",
    "MyEnvironment.close()"
   ]
  },
  {
   "cell_type": "markdown",
   "metadata": {},
   "source": [
    "Same one but registering environment in Gym preferred way:"
   ]
  },
  {
   "cell_type": "code",
   "execution_count": 5,
   "metadata": {
    "ExecuteTime": {
     "end_time": "2020-06-05T23:23:07.067181Z",
     "start_time": "2020-06-05T23:23:04.801847Z"
    }
   },
   "outputs": [
    {
     "name": "stdout",
     "output_type": "stream",
     "text": [
      "BTgymDataset class is DEPRECATED, use btgym.datafeed.derivative.BTgymDataset2 instead.\n",
      "[2020-06-05 23:23:04.810738] INFO: BTgymAPIshell_0: Base Dataset class used.\n",
      "[2020-06-05 23:23:04.811689] INFO: BTgymAPIshell_0: Connecting data_server...\n",
      "[2020-06-05 23:23:04.924349] INFO: BTgymDataServer_0: PID: 5678\n",
      "[2020-06-05 23:23:05.289550] INFO: SimpleDataSet_0: Loaded 372678 records from <btgym/examples/data/DAT_ASCII_EURUSD_M1_2016.csv>.\n",
      "[2020-06-05 23:23:05.355703] INFO: SimpleDataSet_0: Data summary:\n",
      "                open           high            low          close    volume\n",
      "count  372678.000000  372678.000000  372678.000000  372678.000000  372678.0\n",
      "mean        1.107109       1.107198       1.107019       1.107108       0.0\n",
      "std         0.024843       0.024840       0.024847       0.024844       0.0\n",
      "min         1.035250       1.035470       1.035220       1.035220       0.0\n",
      "25%         1.092140       1.092230       1.092040       1.092140       0.0\n",
      "50%         1.113530       1.113610       1.113450       1.113530       0.0\n",
      "75%         1.124710       1.124780       1.124630       1.124710       0.0\n",
      "max         1.161440       1.161600       1.160770       1.161450       0.0\n",
      "[2020-06-05 23:23:05.932937] INFO: BTgymAPIshell_0: ...done.\n",
      "[2020-06-05 23:23:05.937291] INFO: BTgymAPIshell_0: Base Cerebro class used. Base Strategy class used.\n",
      "[2020-06-05 23:23:05.949695] INFO: BTgymAPIshell_0: Inferring `state[raw]` high/low values form dataset: 1.035220 / 1.161600.\n",
      "[2020-06-05 23:23:06.028803] INFO: BTgymServer_0: PID: 5694\n",
      "[2020-06-05 23:23:07.027877] INFO: BTgymAPIshell_0: Server started, pinging tcp://127.0.0.1:5555 ...\n",
      "[2020-06-05 23:23:07.032605] INFO: BTgymAPIshell_0: Server seems ready with response: <{'ctrl': 'send control keys: <_reset>, <_getstat>, <_render>, <_stop>.'}>\n",
      "[2020-06-05 23:23:07.034153] INFO: BTgymAPIshell_0: Environment is ready.\n",
      "[2020-06-05 23:23:07.044835] INFO: BTgymServer_0: Exiting.\n",
      "[2020-06-05 23:23:07.048919] INFO: BTgymAPIshell_0: Exiting. Exit code: None\n",
      "[2020-06-05 23:23:07.053785] INFO: BTgymDataServer_0: {'ctrl': 'Exiting.'}\n",
      "[2020-06-05 23:23:07.059110] INFO: BTgymAPIshell_0: {'ctrl': 'Exiting.'} Exit code: None\n",
      "[2020-06-05 23:23:07.062336] INFO: BTgymAPIshell_0: Environment closed.\n"
     ]
    }
   ],
   "source": [
    "import gym\n",
    "from gym import spaces\n",
    "from btgym import BTgymEnv\n",
    "\n",
    "env_params = dict(filename='btgym/examples/data/DAT_ASCII_EURUSD_M1_2016.csv',\n",
    "                  episode_duration={'days': 2, 'hours': 23, 'minutes': 55},\n",
    "                  drawdown_call=50,\n",
    "                  state_shape={'raw': spaces.Box(low=0,high=1,shape=(20,4))},\n",
    "                  port=5555,\n",
    "                  verbose=1,\n",
    "                  )\n",
    "\n",
    "gym.envs.register(id='backtrader-v52555', entry_point='btgym:BTgymEnv', kwargs=env_params,)\n",
    "\n",
    "MyEnvironment = gym.make('backtrader-v52555')\n",
    "MyEnvironment.close()"
   ]
  },
  {
   "cell_type": "markdown",
   "metadata": {},
   "source": [
    "Maximum environment flexibility is achieved by explicitly defining and passing Dataset and Cerebro instances:"
   ]
  },
  {
   "cell_type": "code",
   "execution_count": 8,
   "metadata": {
    "ExecuteTime": {
     "end_time": "2020-06-05T23:23:41.278805Z",
     "start_time": "2020-06-05T23:23:39.063218Z"
    }
   },
   "outputs": [
    {
     "name": "stdout",
     "output_type": "stream",
     "text": [
      "BTgymDataset class is DEPRECATED, use btgym.datafeed.derivative.BTgymDataset2 instead.\n",
      "[2020-06-05 23:23:39.076074] INFO: BTgymAPIshell_0: Custom Dataset class used.\n",
      "[2020-06-05 23:23:39.076994] INFO: BTgymAPIshell_0: Connecting data_server...\n",
      "[2020-06-05 23:23:39.158909] INFO: BTgymDataServer_0: PID: 5714\n",
      "[2020-06-05 23:23:39.531384] INFO: SimpleDataSet_0: Loaded 372678 records from <btgym/examples/data/DAT_ASCII_EURUSD_M1_2016.csv>.\n",
      "[2020-06-05 23:23:39.600168] INFO: SimpleDataSet_0: Data summary:\n",
      "                open           high            low          close    volume\n",
      "count  372678.000000  372678.000000  372678.000000  372678.000000  372678.0\n",
      "mean        1.107109       1.107198       1.107019       1.107108       0.0\n",
      "std         0.024843       0.024840       0.024847       0.024844       0.0\n",
      "min         1.035250       1.035470       1.035220       1.035220       0.0\n",
      "25%         1.092140       1.092230       1.092040       1.092140       0.0\n",
      "50%         1.113530       1.113610       1.113450       1.113530       0.0\n",
      "75%         1.124710       1.124780       1.124630       1.124710       0.0\n",
      "max         1.161440       1.161600       1.160770       1.161450       0.0\n",
      "[2020-06-05 23:23:40.166943] INFO: BTgymAPIshell_0: ...done.\n",
      "[2020-06-05 23:23:40.169274] INFO: BTgymAPIshell_0: Custom Cerebro class used.\n",
      "[2020-06-05 23:23:40.178154] INFO: BTgymAPIshell_0: Inferring `state[raw]` high/low values form dataset: 1.035220 / 1.161600.\n",
      "[2020-06-05 23:23:40.256096] INFO: BTgymServer_0: PID: 5729\n",
      "[2020-06-05 23:23:41.255607] INFO: BTgymAPIshell_0: Server started, pinging tcp://127.0.0.1:5555 ...\n",
      "[2020-06-05 23:23:41.261240] INFO: BTgymAPIshell_0: Server seems ready with response: <{'ctrl': 'send control keys: <_reset>, <_getstat>, <_render>, <_stop>.'}>\n",
      "[2020-06-05 23:23:41.261998] INFO: BTgymAPIshell_0: Environment is ready.\n",
      "[2020-06-05 23:23:41.264341] INFO: BTgymServer_0: Exiting.\n",
      "[2020-06-05 23:23:41.265893] INFO: BTgymAPIshell_0: Exiting. Exit code: None\n",
      "[2020-06-05 23:23:41.267197] INFO: BTgymDataServer_0: {'ctrl': 'Exiting.'}\n",
      "[2020-06-05 23:23:41.268550] INFO: BTgymAPIshell_0: {'ctrl': 'Exiting.'} Exit code: None\n",
      "[2020-06-05 23:23:41.275518] INFO: BTgymAPIshell_0: Environment closed.\n"
     ]
    }
   ],
   "source": [
    "from gym import spaces\n",
    "import backtrader as bt\n",
    "from btgym import BTgymDataset, BTgymBaseStrategy, BTgymEnv\n",
    "\n",
    "MyCerebro = bt.Cerebro()\n",
    "MyCerebro.addstrategy(BTgymBaseStrategy,\n",
    "                      state_shape={'raw': spaces.Box(low=0,high=1,shape=(20,4))},\n",
    "                      skip_frame=5,\n",
    "                      state_low=None,\n",
    "                      state_high=None,\n",
    "                      drawdown_call=50,\n",
    "                      )\n",
    "\n",
    "MyCerebro.broker.setcash(100.0)\n",
    "MyCerebro.broker.setcommission(commission=0.001)\n",
    "MyCerebro.addsizer(bt.sizers.SizerFix, stake=10)\n",
    "MyCerebro.addanalyzer(bt.analyzers.DrawDown)\n",
    "\n",
    "MyDataset = BTgymDataset(filename='btgym/examples/data/DAT_ASCII_EURUSD_M1_2016.csv',\n",
    "                         start_weekdays=[0, 1, 2, 4],\n",
    "                         start_00=True,\n",
    "                         episode_duration={'days': 0, 'hours': 23, 'minutes': 55},\n",
    "                         time_gap={'hours': 5},\n",
    "                         )\n",
    "\n",
    "MyEnvironment = BTgymEnv(dataset=MyDataset,\n",
    "                         engine=MyCerebro,\n",
    "                         port=5555,\n",
    "                         verbose=1,\n",
    "                         )\n",
    "MyEnvironment.close()"
   ]
  },
  {
   "cell_type": "markdown",
   "metadata": {
    "ExecuteTime": {
     "end_time": "2020-06-05T16:25:04.796533Z",
     "start_time": "2020-06-05T16:25:04.794250Z"
    }
   },
   "source": [
    "# Exploration"
   ]
  },
  {
   "cell_type": "code",
   "execution_count": null,
   "metadata": {},
   "outputs": [],
   "source": []
  }
 ],
 "metadata": {
  "kernelspec": {
   "display_name": "Python 3",
   "language": "python",
   "name": "python3"
  },
  "language_info": {
   "codemirror_mode": {
    "name": "ipython",
    "version": 3
   },
   "file_extension": ".py",
   "mimetype": "text/x-python",
   "name": "python",
   "nbconvert_exporter": "python",
   "pygments_lexer": "ipython3",
   "version": "3.8.1"
  },
  "toc": {
   "base_numbering": 1,
   "nav_menu": {},
   "number_sections": true,
   "sideBar": true,
   "skip_h1_title": false,
   "title_cell": "Table of Contents",
   "title_sidebar": "Contents",
   "toc_cell": false,
   "toc_position": {},
   "toc_section_display": true,
   "toc_window_display": true
  }
 },
 "nbformat": 4,
 "nbformat_minor": 4
}
