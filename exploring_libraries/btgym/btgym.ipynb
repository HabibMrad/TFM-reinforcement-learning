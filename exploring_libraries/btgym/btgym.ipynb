{
 "cells": [
  {
   "cell_type": "markdown",
   "metadata": {},
   "source": [
    "# Introduction"
   ]
  },
  {
   "cell_type": "markdown",
   "metadata": {},
   "source": [
    "## Description"
   ]
  },
  {
   "cell_type": "markdown",
   "metadata": {},
   "source": [
    "Btgym is an OpenAI Gym-compatible environment for Backtrader backtesting/trading library, designed to provide gym-integrated framework for running reinforcement learning experiments in real world algorithmic trading environments. It is based on two libraries:\n",
    "* Backtrader is open-source algorithmic trading library.\n",
    "* OpenAI Gym is…, well, everyone knows Gym:"
   ]
  },
  {
   "cell_type": "markdown",
   "metadata": {},
   "source": [
    "## Problem definition"
   ]
  },
  {
   "cell_type": "markdown",
   "metadata": {},
   "source": [
    "* **Discrete actions setup**: consider setup with one riskless asset acting as broker account cash and K (by default - one) risky assets. For every risky asset there exists track of historic price records referred as *data-line*. Apart from assets data lines there optionally exists number of exogenous data lines holding some information and statistics, e.g. economic indexes, encoded news, macroeconomic indicators, weather forecasts, ... which are considered relevant to decision-making. It is supposed for this setup that:\n",
    "    * there is no interest rates for any asset;\n",
    "    * broker actions are fixed-size market orders (buy, sell, close); \n",
    "    * short selling is permitted;\n",
    "    * transaction costs are modelled via broker commission;\n",
    "    * ‘market liquidity’ and ‘capital impact’ assumptions are met; \n",
    "    * time indexes match for all data lines provided;\n",
    "* **The problem is modelled as discrete-time finite-horizon partially observable Markov decision process for equity/currency trading**:\n",
    "    * for every asset traded agent action space is discrete (0: hold [do nothing], 1:buy, 2: sell, 3:close [position]);\n",
    "    * environment is episodic: maximum episode duration and episode termination conditions are set;\n",
    "    * for every timestep of the episode agent is given environment state observation as tensor of last m time-embedded preprocessed values for every data-line included and emits actions according some stochastic policy.\n",
    "    * agent’s goal is to maximize expected cumulative capital by learning optimal policy;"
   ]
  },
  {
   "cell_type": "markdown",
   "metadata": {},
   "source": [
    "## Environment engine description"
   ]
  },
  {
   "cell_type": "markdown",
   "metadata": {},
   "source": [
    "BTgym uses Backtrader framework for actual environment computations. In short:\n",
    "* User defines backtrading engine parameters by composing Backtrader.Cerebro() subclass, provides historic prices dataset as BTgymDataset() instance and passes it as arguments when making BTgym environment. See https://www.backtrader.com/docu/concepts.html for general Backtrader concepts descriptions.\n",
    "* Environment starts separate server process responsible for rendering gym environment queries like env.reset() and env.step() by repeatedly sampling episodes form given dataset and running backtesting Cerebro engine on it. See OpenAI Gym documentation for details: https://gym.openai.com/docs\n",
    "\n",
    "Workflow sample:\n",
    "* Define backtesting BTgymStrategy(bt.Strategy), which will control Environment inner dynamics and backtesting logic.\n",
    "    * For RL-specific part, any STATE, REWARD, DONE and INFO computation logic can be implemented by overriding get_state(), get_reward(), get_info(), is_done() and set_datalines() methods.\n",
    "    * For Broker/Trading specific part, custom order execution logic, stake sizing, analytics tracking can be implemented as for regular bt.Strategy().\n",
    "* Instantiate Cerbro(), add BTgymStrategy(), backtrader Sizers, Analyzers and Observers (if needed).\n",
    "* Define dataset by passing CSV datafile and parameters to BTgymDataset instance.\n",
    "    * BTgymDataset() is simply Backtrader.feeds class wrapper, which pipes CSV [source]->pandas[for efficient sampling]-> bt.feeds routine and implements random episode data sampling.\n",
    "* Initialize (or register and make()) gym environment with Cerebro() and BTgymDataset() along with other kwargs.\n",
    "* Run your favorite RL algorithm:\n",
    "    * start episode by calling env.reset();\n",
    "    * advance one step of episode by calling env.step(), perform agent training or testing;\n",
    "    * after single episode is finished, retrieve agent performance statistic by env.get_stat()."
   ]
  },
  {
   "cell_type": "markdown",
   "metadata": {},
   "source": [
    "## Server operation details"
   ]
  },
  {
   "cell_type": "markdown",
   "metadata": {},
   "source": [
    "Backtrader server starts when env.reset() method is called for first time, runs as separate process, follows simple Request/Reply pattern (every request should be paired with reply message) and operates one of two modes:\n",
    "* Control mode: initial mode, accepts only _reset, _stop and _getstat messages. Any other message is ignored and replied with simple info messge. Shuts down upon recieving _stop via env._stop_server() method, goes to episode mode upon _reset (via env.reset()) and send last run episode statistic (if any) upon _getstat via env.get_stat().\n",
    "* Episode mode: runs episode according BtGymStrategy() logic. Accepts action messages, returns tuple: ([state observation], [reward], [is_done], [aux.info]). Finishes episode upon recieving action`==`_done or according to strategy termination rules, than falls back to control mode.\n",
    "\n",
    "Before every episode start, BTserver samples episode data and adds it to bt.Cerebro() instance\n",
    "along with specific _BTgymAnalyzer. The service of this hidden Analyzer is twofold:\n",
    "enables strategy-environment communication by calling RL-related BTgymStrategy methods:\n",
    "get_state(), get_reward(), get_info() and is_done() [see below];\n",
    "controls episode termination conditions.\n",
    "Episode runtime: after preparing environment initial state by running BTgymStrategy start(), prenext() methods, server halts and waits for incoming agent action. Upon receiving action, server performs all necessary next() computations (e.g. issues orders, computes broker values etc.), composes environment response and sends it back to agent ( via _BTgymAnalyzer). Actually, since ‘no market impact’ is assumed, all state computations are performed one step ahead:"
   ]
  },
  {
   "cell_type": "markdown",
   "metadata": {},
   "source": [
    "## Links"
   ]
  },
  {
   "cell_type": "markdown",
   "metadata": {
    "ExecuteTime": {
     "end_time": "2020-06-05T14:55:41.680263Z",
     "start_time": "2020-06-05T14:55:41.676252Z"
    }
   },
   "source": [
    "* https://github.com/Kismuz/btgym\n",
    "* http://github.com/mementum/backtrader\n",
    "* http://github.com/openai/gym\n",
    "* https://kismuz.github.io/btgym/\n",
    "* https://www.backtrader.com/docu/index.html"
   ]
  },
  {
   "cell_type": "markdown",
   "metadata": {},
   "source": [
    "# Quickstart"
   ]
  },
  {
   "cell_type": "markdown",
   "metadata": {},
   "source": [
    "Making gym environment with all parmeters set to defaults is as simple as:"
   ]
  },
  {
   "cell_type": "code",
   "execution_count": 1,
   "metadata": {
    "ExecuteTime": {
     "end_time": "2020-06-06T10:20:51.143345Z",
     "start_time": "2020-06-06T10:20:48.970922Z"
    }
   },
   "outputs": [
    {
     "output_type": "error",
     "ename": "ImportError",
     "evalue": "cannot import name 'BTgymEnv' from 'btgym' (unknown location)",
     "traceback": [
      "\u001b[0;31m---------------------------------------------------------------------------\u001b[0m",
      "\u001b[0;31mImportError\u001b[0m                               Traceback (most recent call last)",
      "\u001b[0;32m<ipython-input-1-86bdfab018b3>\u001b[0m in \u001b[0;36m<module>\u001b[0;34m\u001b[0m\n\u001b[0;32m----> 1\u001b[0;31m \u001b[0;32mfrom\u001b[0m \u001b[0mbtgym\u001b[0m \u001b[0;32mimport\u001b[0m \u001b[0mBTgymEnv\u001b[0m\u001b[0;34m\u001b[0m\u001b[0;34m\u001b[0m\u001b[0m\n\u001b[0m\u001b[1;32m      2\u001b[0m \u001b[0;34m\u001b[0m\u001b[0m\n\u001b[1;32m      3\u001b[0m \u001b[0mMyEnvironment\u001b[0m \u001b[0;34m=\u001b[0m \u001b[0mBTgymEnv\u001b[0m\u001b[0;34m(\u001b[0m\u001b[0mfilename\u001b[0m\u001b[0;34m=\u001b[0m\u001b[0;34m'btgym/examples/data/DAT_ASCII_EURUSD_M1_2016.csv'\u001b[0m\u001b[0;34m)\u001b[0m\u001b[0;34m\u001b[0m\u001b[0;34m\u001b[0m\u001b[0m\n\u001b[1;32m      4\u001b[0m \u001b[0mMyEnvironment\u001b[0m\u001b[0;34m.\u001b[0m\u001b[0mclose\u001b[0m\u001b[0;34m(\u001b[0m\u001b[0;34m)\u001b[0m\u001b[0;34m\u001b[0m\u001b[0;34m\u001b[0m\u001b[0m\n",
      "\u001b[0;31mImportError\u001b[0m: cannot import name 'BTgymEnv' from 'btgym' (unknown location)"
     ]
    }
   ],
   "source": [
    "from btgym import BTgymEnv\n",
    "\n",
    "MyEnvironment = BTgymEnv(filename='btgym/examples/data/DAT_ASCII_EURUSD_M1_2016.csv')\n",
    "MyEnvironment.close()"
   ]
  },
  {
   "cell_type": "markdown",
   "metadata": {},
   "source": [
    "Adding more controls may look like:"
   ]
  },
  {
   "cell_type": "code",
   "execution_count": 2,
   "metadata": {
    "ExecuteTime": {
     "end_time": "2020-06-05T23:21:15.249616Z",
     "start_time": "2020-06-05T23:21:13.011488Z"
    }
   },
   "outputs": [
    {
     "name": "stdout",
     "output_type": "stream",
     "text": [
      "BTgymDataset class is DEPRECATED, use btgym.datafeed.derivative.BTgymDataset2 instead.\n",
      "[2020-06-05 23:21:13.019786] INFO: BTgymAPIshell_0: Base Dataset class used.\n",
      "[2020-06-05 23:21:13.020492] INFO: BTgymAPIshell_0: Connecting data_server...\n",
      "[2020-06-05 23:21:13.086284] INFO: BTgymDataServer_0: PID: 5595\n",
      "[2020-06-05 23:21:13.457120] INFO: SimpleDataSet_0: Loaded 372678 records from <btgym/examples/data/DAT_ASCII_EURUSD_M1_2016.csv>.\n",
      "[2020-06-05 23:21:13.551928] INFO: SimpleDataSet_0: Data summary:\n",
      "                open           high            low          close    volume\n",
      "count  372678.000000  372678.000000  372678.000000  372678.000000  372678.0\n",
      "mean        1.107109       1.107198       1.107019       1.107108       0.0\n",
      "std         0.024843       0.024840       0.024847       0.024844       0.0\n",
      "min         1.035250       1.035470       1.035220       1.035220       0.0\n",
      "25%         1.092140       1.092230       1.092040       1.092140       0.0\n",
      "50%         1.113530       1.113610       1.113450       1.113530       0.0\n",
      "75%         1.124710       1.124780       1.124630       1.124710       0.0\n",
      "max         1.161440       1.161600       1.160770       1.161450       0.0\n",
      "[2020-06-05 23:21:14.095520] INFO: BTgymAPIshell_0: ...done.\n",
      "[2020-06-05 23:21:14.097621] INFO: BTgymAPIshell_0: Base Cerebro class used. Base Strategy class used.\n",
      "[2020-06-05 23:21:14.105578] INFO: BTgymAPIshell_0: Inferring `state[raw]` high/low values form dataset: 1.035220 / 1.161600.\n",
      "[2020-06-05 23:21:14.227487] INFO: BTgymServer_0: PID: 5610\n",
      "[2020-06-05 23:21:15.227737] INFO: BTgymAPIshell_0: Server started, pinging tcp://127.0.0.1:5555 ...\n",
      "[2020-06-05 23:21:15.233633] INFO: BTgymAPIshell_0: Server seems ready with response: <{'ctrl': 'send control keys: <_reset>, <_getstat>, <_render>, <_stop>.'}>\n",
      "[2020-06-05 23:21:15.235687] INFO: BTgymAPIshell_0: Environment is ready.\n",
      "[2020-06-05 23:21:15.239670] INFO: BTgymServer_0: Exiting.\n",
      "[2020-06-05 23:21:15.241211] INFO: BTgymAPIshell_0: Exiting. Exit code: None\n",
      "[2020-06-05 23:21:15.242851] INFO: BTgymDataServer_0: {'ctrl': 'Exiting.'}\n",
      "[2020-06-05 23:21:15.245001] INFO: BTgymAPIshell_0: {'ctrl': 'Exiting.'} Exit code: None\n",
      "[2020-06-05 23:21:15.246520] INFO: BTgymAPIshell_0: Environment closed.\n"
     ]
    }
   ],
   "source": [
    "from gym import spaces\n",
    "from btgym import BTgymEnv\n",
    "\n",
    "MyEnvironment = BTgymEnv(filename='btgym/examples/data/DAT_ASCII_EURUSD_M1_2016.csv',\n",
    "                         episode_duration={'days': 2, 'hours': 23, 'minutes': 55},\n",
    "                         drawdown_call=50,\n",
    "                         state_shape={'raw': spaces.Box(low=0,high=1,shape=(20,4))},\n",
    "                         port=5555,\n",
    "                         verbose=1,\n",
    "                         )\n",
    "MyEnvironment.close()"
   ]
  },
  {
   "cell_type": "markdown",
   "metadata": {},
   "source": [
    "Same one but registering environment in Gym preferred way:"
   ]
  },
  {
   "cell_type": "code",
   "execution_count": 5,
   "metadata": {
    "ExecuteTime": {
     "end_time": "2020-06-05T23:23:07.067181Z",
     "start_time": "2020-06-05T23:23:04.801847Z"
    }
   },
   "outputs": [
    {
     "name": "stdout",
     "output_type": "stream",
     "text": [
      "BTgymDataset class is DEPRECATED, use btgym.datafeed.derivative.BTgymDataset2 instead.\n",
      "[2020-06-05 23:23:04.810738] INFO: BTgymAPIshell_0: Base Dataset class used.\n",
      "[2020-06-05 23:23:04.811689] INFO: BTgymAPIshell_0: Connecting data_server...\n",
      "[2020-06-05 23:23:04.924349] INFO: BTgymDataServer_0: PID: 5678\n",
      "[2020-06-05 23:23:05.289550] INFO: SimpleDataSet_0: Loaded 372678 records from <btgym/examples/data/DAT_ASCII_EURUSD_M1_2016.csv>.\n",
      "[2020-06-05 23:23:05.355703] INFO: SimpleDataSet_0: Data summary:\n",
      "                open           high            low          close    volume\n",
      "count  372678.000000  372678.000000  372678.000000  372678.000000  372678.0\n",
      "mean        1.107109       1.107198       1.107019       1.107108       0.0\n",
      "std         0.024843       0.024840       0.024847       0.024844       0.0\n",
      "min         1.035250       1.035470       1.035220       1.035220       0.0\n",
      "25%         1.092140       1.092230       1.092040       1.092140       0.0\n",
      "50%         1.113530       1.113610       1.113450       1.113530       0.0\n",
      "75%         1.124710       1.124780       1.124630       1.124710       0.0\n",
      "max         1.161440       1.161600       1.160770       1.161450       0.0\n",
      "[2020-06-05 23:23:05.932937] INFO: BTgymAPIshell_0: ...done.\n",
      "[2020-06-05 23:23:05.937291] INFO: BTgymAPIshell_0: Base Cerebro class used. Base Strategy class used.\n",
      "[2020-06-05 23:23:05.949695] INFO: BTgymAPIshell_0: Inferring `state[raw]` high/low values form dataset: 1.035220 / 1.161600.\n",
      "[2020-06-05 23:23:06.028803] INFO: BTgymServer_0: PID: 5694\n",
      "[2020-06-05 23:23:07.027877] INFO: BTgymAPIshell_0: Server started, pinging tcp://127.0.0.1:5555 ...\n",
      "[2020-06-05 23:23:07.032605] INFO: BTgymAPIshell_0: Server seems ready with response: <{'ctrl': 'send control keys: <_reset>, <_getstat>, <_render>, <_stop>.'}>\n",
      "[2020-06-05 23:23:07.034153] INFO: BTgymAPIshell_0: Environment is ready.\n",
      "[2020-06-05 23:23:07.044835] INFO: BTgymServer_0: Exiting.\n",
      "[2020-06-05 23:23:07.048919] INFO: BTgymAPIshell_0: Exiting. Exit code: None\n",
      "[2020-06-05 23:23:07.053785] INFO: BTgymDataServer_0: {'ctrl': 'Exiting.'}\n",
      "[2020-06-05 23:23:07.059110] INFO: BTgymAPIshell_0: {'ctrl': 'Exiting.'} Exit code: None\n",
      "[2020-06-05 23:23:07.062336] INFO: BTgymAPIshell_0: Environment closed.\n"
     ]
    }
   ],
   "source": [
    "import gym\n",
    "from gym import spaces\n",
    "from btgym import BTgymEnv\n",
    "\n",
    "env_params = dict(filename='btgym/examples/data/DAT_ASCII_EURUSD_M1_2016.csv',\n",
    "                  episode_duration={'days': 2, 'hours': 23, 'minutes': 55},\n",
    "                  drawdown_call=50,\n",
    "                  state_shape={'raw': spaces.Box(low=0,high=1,shape=(20,4))},\n",
    "                  port=5555,\n",
    "                  verbose=1,\n",
    "                  )\n",
    "\n",
    "gym.envs.register(id='backtrader-v52555', entry_point='btgym:BTgymEnv', kwargs=env_params,)\n",
    "\n",
    "MyEnvironment = gym.make('backtrader-v52555')\n",
    "MyEnvironment.close()"
   ]
  },
  {
   "cell_type": "markdown",
   "metadata": {},
   "source": [
    "Maximum environment flexibility is achieved by explicitly defining and passing Dataset and Cerebro instances:"
   ]
  },
  {
   "cell_type": "code",
   "execution_count": 8,
   "metadata": {
    "ExecuteTime": {
     "end_time": "2020-06-05T23:23:41.278805Z",
     "start_time": "2020-06-05T23:23:39.063218Z"
    }
   },
   "outputs": [
    {
     "name": "stdout",
     "output_type": "stream",
     "text": [
      "BTgymDataset class is DEPRECATED, use btgym.datafeed.derivative.BTgymDataset2 instead.\n",
      "[2020-06-05 23:23:39.076074] INFO: BTgymAPIshell_0: Custom Dataset class used.\n",
      "[2020-06-05 23:23:39.076994] INFO: BTgymAPIshell_0: Connecting data_server...\n",
      "[2020-06-05 23:23:39.158909] INFO: BTgymDataServer_0: PID: 5714\n",
      "[2020-06-05 23:23:39.531384] INFO: SimpleDataSet_0: Loaded 372678 records from <btgym/examples/data/DAT_ASCII_EURUSD_M1_2016.csv>.\n",
      "[2020-06-05 23:23:39.600168] INFO: SimpleDataSet_0: Data summary:\n",
      "                open           high            low          close    volume\n",
      "count  372678.000000  372678.000000  372678.000000  372678.000000  372678.0\n",
      "mean        1.107109       1.107198       1.107019       1.107108       0.0\n",
      "std         0.024843       0.024840       0.024847       0.024844       0.0\n",
      "min         1.035250       1.035470       1.035220       1.035220       0.0\n",
      "25%         1.092140       1.092230       1.092040       1.092140       0.0\n",
      "50%         1.113530       1.113610       1.113450       1.113530       0.0\n",
      "75%         1.124710       1.124780       1.124630       1.124710       0.0\n",
      "max         1.161440       1.161600       1.160770       1.161450       0.0\n",
      "[2020-06-05 23:23:40.166943] INFO: BTgymAPIshell_0: ...done.\n",
      "[2020-06-05 23:23:40.169274] INFO: BTgymAPIshell_0: Custom Cerebro class used.\n",
      "[2020-06-05 23:23:40.178154] INFO: BTgymAPIshell_0: Inferring `state[raw]` high/low values form dataset: 1.035220 / 1.161600.\n",
      "[2020-06-05 23:23:40.256096] INFO: BTgymServer_0: PID: 5729\n",
      "[2020-06-05 23:23:41.255607] INFO: BTgymAPIshell_0: Server started, pinging tcp://127.0.0.1:5555 ...\n",
      "[2020-06-05 23:23:41.261240] INFO: BTgymAPIshell_0: Server seems ready with response: <{'ctrl': 'send control keys: <_reset>, <_getstat>, <_render>, <_stop>.'}>\n",
      "[2020-06-05 23:23:41.261998] INFO: BTgymAPIshell_0: Environment is ready.\n",
      "[2020-06-05 23:23:41.264341] INFO: BTgymServer_0: Exiting.\n",
      "[2020-06-05 23:23:41.265893] INFO: BTgymAPIshell_0: Exiting. Exit code: None\n",
      "[2020-06-05 23:23:41.267197] INFO: BTgymDataServer_0: {'ctrl': 'Exiting.'}\n",
      "[2020-06-05 23:23:41.268550] INFO: BTgymAPIshell_0: {'ctrl': 'Exiting.'} Exit code: None\n",
      "[2020-06-05 23:23:41.275518] INFO: BTgymAPIshell_0: Environment closed.\n"
     ]
    }
   ],
   "source": [
    "from gym import spaces\n",
    "import backtrader as bt\n",
    "from btgym import BTgymDataset, BTgymBaseStrategy, BTgymEnv\n",
    "\n",
    "MyCerebro = bt.Cerebro()\n",
    "MyCerebro.addstrategy(BTgymBaseStrategy,\n",
    "                      state_shape={'raw': spaces.Box(low=0,high=1,shape=(20,4))},\n",
    "                      skip_frame=5,\n",
    "                      state_low=None,\n",
    "                      state_high=None,\n",
    "                      drawdown_call=50,\n",
    "                      )\n",
    "\n",
    "MyCerebro.broker.setcash(100.0)\n",
    "MyCerebro.broker.setcommission(commission=0.001)\n",
    "MyCerebro.addsizer(bt.sizers.SizerFix, stake=10)\n",
    "MyCerebro.addanalyzer(bt.analyzers.DrawDown)\n",
    "\n",
    "MyDataset = BTgymDataset(filename='btgym/examples/data/DAT_ASCII_EURUSD_M1_2016.csv',\n",
    "                         start_weekdays=[0, 1, 2, 4],\n",
    "                         start_00=True,\n",
    "                         episode_duration={'days': 0, 'hours': 23, 'minutes': 55},\n",
    "                         time_gap={'hours': 5},\n",
    "                         )\n",
    "\n",
    "MyEnvironment = BTgymEnv(dataset=MyDataset,\n",
    "                         engine=MyCerebro,\n",
    "                         port=5555,\n",
    "                         verbose=1,\n",
    "                         )\n",
    "MyEnvironment.close()"
   ]
  },
  {
   "cell_type": "markdown",
   "metadata": {
    "ExecuteTime": {
     "end_time": "2020-06-05T16:25:04.796533Z",
     "start_time": "2020-06-05T16:25:04.794250Z"
    }
   },
   "source": [
    "# Development"
   ]
  },
  {
   "cell_type": "code",
   "execution_count": null,
   "metadata": {},
   "outputs": [],
   "source": [
    "# Imports\n",
    "from btgym import BTgymDataset"
   ]
  },
  {
   "cell_type": "markdown",
   "metadata": {},
   "source": [
    "## BTgymDataset"
   ]
  },
  {
   "cell_type": "code",
   "execution_count": null,
   "metadata": {},
   "outputs": [],
   "source": [
    "# Load sample data\n",
    "MyDataset = BTgymDataset(filename='../data/AAPL_2000_2019.csv',\n",
    "                         start_weekdays=[0, 1, 2, 4],\n",
    "                         start_00=True,\n",
    "                         episode_duration={'days': 0, 'hours': 23, 'minutes': 55},\n",
    "                         time_gap={'hours': 5},\n",
    "                         )"
   ]
  }
 ],
 "metadata": {
  "kernelspec": {
   "display_name": "Python 3",
   "language": "python",
   "name": "python3"
  },
  "language_info": {
   "codemirror_mode": {
    "name": "ipython",
    "version": 3
   },
   "file_extension": ".py",
   "mimetype": "text/x-python",
   "name": "python",
   "nbconvert_exporter": "python",
   "pygments_lexer": "ipython3",
   "version": "3.7.3-final"
  },
  "toc": {
   "base_numbering": 1,
   "nav_menu": {},
   "number_sections": true,
   "sideBar": true,
   "skip_h1_title": false,
   "title_cell": "Table of Contents",
   "title_sidebar": "Contents",
   "toc_cell": false,
   "toc_position": {},
   "toc_section_display": true,
   "toc_window_display": true
  }
 },
 "nbformat": 4,
 "nbformat_minor": 4
}